{
 "cells": [
  {
   "cell_type": "markdown",
   "metadata": {},
   "source": [
    "<center>\n",
    "    <img src=\"https://cf-courses-data.s3.us.cloud-object-storage.appdomain.cloud/IBMDeveloperSkillsNetwork-DS0105EN-SkillsNetwork/labs/Module2/images/SN_web_lightmode.png\" width=\"300\" alt=\"cognitiveclass.ai logo\">\n",
    "</center>\n"
   ]
  },
  {
   "cell_type": "markdown",
   "metadata": {},
   "source": [
    "James Class Submission for IBM Data Science"
   ]
  },
  {
   "cell_type": "markdown",
   "metadata": {},
   "source": [
    "Introduction: The course introduced us to multiple data science tools, and in this project we are applying some of the knowledge gained in a Jupyterlite Notebook."
   ]
  },
  {
   "cell_type": "markdown",
   "metadata": {},
   "source": [
    "Data Science Languages: Python, R, SQL, Julia"
   ]
  },
  {
   "cell_type": "markdown",
   "metadata": {},
   "source": [
    "Data Science Libraries: NumPy, Pandas, Matplotlib, PyTorch (Python), dplyr, ggplot, caret, tidyr (R)"
   ]
  },
  {
   "cell_type": "markdown",
   "metadata": {},
   "source": [
    "| Category               | Tool               | Description                                                      |\n",
    "|------------------------|--------------------|------------------------------------------------------------------|\n",
    "| **Programming Languages** | Python             | General-purpose language with extensive data science libraries.  |\n",
    "|                        | R                  | Statistical computing and graphics.                               |\n",
    "|                        | SQL                | Query language for managing and manipulating relational databases.|\n",
    "|                        | Julia              | High-performance language for technical computing.               |\n",
    "| **Data Manipulation & Analysis** | Pandas           | Data manipulation and analysis library for Python.               |\n",
    "|                        | dplyr              | Data manipulation library for R.                                  |\n",
    "|                        | NumPy              | Numerical computing library for Python.                           |\n",
    "| **Data Visualization** | Matplotlib         | 2D plotting library for Python.                                   |\n",
    "|                        | ggplot2            | Data visualization library for R.                                 |\n",
    "|                        | Seaborn            | Statistical data visualization library for Python.               |\n",
    "| **Machine Learning**    | Scikit-learn       | Machine learning library for Python.                              |\n",
    "|                        | caret              | Classification and Regression Training library for R.            |\n",
    "|                        | TensorFlow         | Open-source machine learning framework for Python.               |\n",
    "|                        | PyTorch            | Open-source machine learning library for Python.                 |\n",
    "| **Text Mining/NLP**    | NLTK               | Natural Language Toolkit for Python.                               |\n",
    "|                        | tm                 | Text mining library for R.                                        |\n",
    "| **Deep Learning**      | Keras              | High-level neural networks API for Python.                        |\n",
    "|                        | xgboost            | Implementation of gradient boosted decision trees.              |\n",
    "| **Statistical Modeling** | Statsmodels       | Library for estimating and testing statistical models.           |\n",
    "| **Web Applications**   | Shiny              | Web application framework for R.                                  |\n",
    "\n"
   ]
  },
  {
   "cell_type": "markdown",
   "metadata": {},
   "source": [
    "Arithmetic Expression Example\n",
    "\n",
    "Addition\n",
    "\n",
    "The addition operator (`+`) is used to combine two or more numbers.\n",
    "\n",
    "```python\n",
    "result = 5 + 3\n",
    "print(result)  # Output: 8\n"
   ]
  },
  {
   "cell_type": "code",
   "execution_count": 4,
   "metadata": {
    "tags": []
   },
   "outputs": [
    {
     "name": "stdout",
     "output_type": "stream",
     "text": [
      "Multiplication Result: 15\n",
      "Addition Result: 9\n"
     ]
    }
   ],
   "source": [
    "# Multiplication Example\n",
    "num1 = 5\n",
    "num2 = 3\n",
    "product = num1 * num2\n",
    "print(f\"Multiplication Result: {product}\")\n",
    "\n",
    "# Addition Example\n",
    "num3 = 7\n",
    "num4 = 2\n",
    "sum_result = num3 + num4\n",
    "print(f\"Addition Result: {sum_result}\")\n"
   ]
  },
  {
   "cell_type": "code",
   "execution_count": 2,
   "metadata": {
    "tags": []
   },
   "outputs": [
    {
     "name": "stdout",
     "output_type": "stream",
     "text": [
      "120 minutes is equal to 2.0 hours.\n"
     ]
    }
   ],
   "source": [
    "# Convert Minutes to Hours Example\n",
    "minutes = 120\n",
    "hours = minutes / 60\n",
    "print(f\"{minutes} minutes is equal to {hours} hours.\")\n"
   ]
  },
  {
   "cell_type": "markdown",
   "metadata": {},
   "source": [
    "Objectives: Listed here"
   ]
  },
  {
   "cell_type": "markdown",
   "metadata": {
    "tags": []
   },
   "source": [
    "Author: JamesB"
   ]
  },
  {
   "cell_type": "code",
   "execution_count": null,
   "metadata": {},
   "outputs": [],
   "source": []
  }
 ],
 "metadata": {
  "kernelspec": {
   "display_name": "Python",
   "language": "python",
   "name": "conda-env-python-py"
  },
  "language_info": {
   "codemirror_mode": {
    "name": "ipython",
    "version": 3
   },
   "file_extension": ".py",
   "mimetype": "text/x-python",
   "name": "python",
   "nbconvert_exporter": "python",
   "pygments_lexer": "ipython3",
   "version": "3.7.12"
  }
 },
 "nbformat": 4,
 "nbformat_minor": 4
}
